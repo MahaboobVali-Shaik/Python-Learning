{
 "cells": [
  {
   "cell_type": "code",
   "execution_count": null,
   "id": "c1f49b9f-69ec-4d5d-ab89-fd042b20d2a5",
   "metadata": {},
   "outputs": [],
   "source": [
    "print(\"Welcome Shaik Mahaboobvali\")"
   ]
  },
  {
   "cell_type": "code",
   "execution_count": 1,
   "id": "c6eca67a-7a30-40df-95c4-feada063a401",
   "metadata": {},
   "outputs": [
    {
     "name": "stdout",
     "output_type": "stream",
     "text": [
      "range(0, 9)\n",
      "range(10, 100, 5)\n",
      "[10, 15, 20, 25, 30, 35, 40, 45, 50, 55, 60, 65, 70, 75, 80, 85, 90, 95]\n",
      "[1, 2, 3, 4, 5, 6]\n",
      "vales are [10, 11, 12, 13, 14, 15, 16, 17, 18, 19, 20, 21, 22, 23, 24, 25, 26, 27, 28, 29, 30, 31, 32, 33, 34, 35, 36, 37, 38, 39, 40, 41, 42, 43, 44, 45, 46, 47, 48, 49, 50, 51, 52, 53, 54, 55, 56, 57, 58, 59, 60, 61, 62, 63, 64, 65, 66, 67, 68, 69, 70, 71, 72, 73, 74, 75, 76, 77, 78, 79, 80, 81, 82, 83, 84, 85, 86, 87, 88, 89, 90, 91, 92, 93, 94, 95, 96, 97, 98, 99]\n"
     ]
    }
   ],
   "source": [
    "# range creates a collection of data from 0 to (n-1)\n",
    "print(range(9))\n",
    "\n",
    "# range(START,STOP,STEP)\n",
    "print(range(10,100,5))\n",
    "print( list(range(10,100,5)))\n",
    "# creating temp and assigning range\n",
    "list1=[1,2,3,4,5,6]\n",
    "print(list1)\n",
    "\"\"\"\n",
    "Multi Line comment\n",
    "\n",
    "\"\"\"\n",
    "\n",
    "temp= range(10,100)\n",
    "print(\"vales are\",list(temp)) # to print values in temp list(temp). print(temp) just prints range"
   ]
  },
  {
   "cell_type": "code",
   "execution_count": 2,
   "id": "d481a90a-f6ec-43df-8a92-a53a5cd1f9bb",
   "metadata": {},
   "outputs": [
    {
     "data": {
      "text/plain": [
       "' \\nThis is multi line comment\\n'"
      ]
     },
     "execution_count": 2,
     "metadata": {},
     "output_type": "execute_result"
    }
   ],
   "source": [
    "#x = readfile()\n",
    "\"\"\" \n",
    "This is multi line comment\n",
    "\"\"\""
   ]
  },
  {
   "cell_type": "code",
   "execution_count": 26,
   "id": "b8ef3c0d-3c2e-430a-9d48-c089fa3d604f",
   "metadata": {},
   "outputs": [
    {
     "name": "stdout",
     "output_type": "stream",
     "text": [
      " Your marks in english 80 and in telugu90 . Total is170 \n",
      " Your marks in english 170 and in telugu90 . Total is170 \n",
      "Your marks in english 80 and in telugu90 . Total is170 \n",
      "Your marks in English 80 out of 100\n"
     ]
    }
   ],
   "source": [
    "\n",
    "eng = 80 # Dynamic typing \n",
    "tel= 90\n",
    "\n",
    "print(\" Your marks in english {} and in telugu{} . Total is{} \".format(eng,tel,(eng+tel)))\n",
    "\n",
    "print(\" Your marks in english {2} and in telugu{1} . Total is{2} \".format(eng,tel,eng+tel ))\n",
    "\n",
    "print(f\"Your marks in english {eng} and in telugu{tel} . Total is{eng+tel} \")\n",
    "\n",
    "\n",
    "# old school : using %d\n",
    "\n",
    "print(\"Your marks in English %d out of 100\"%eng)"
   ]
  },
  {
   "cell_type": "code",
   "execution_count": 33,
   "id": "ca8bb369-55d7-4a8c-9bf7-fce2ebf135e0",
   "metadata": {},
   "outputs": [
    {
     "name": "stdin",
     "output_type": "stream",
     "text": [
      "Please enter a number  5\n"
     ]
    },
    {
     "name": "stdout",
     "output_type": "stream",
     "text": [
      "5\n",
      "<class 'int'>\n",
      "Postive number  5\n"
     ]
    }
   ],
   "source": [
    " x= int(input(\"Please enter a number \"))\n",
    "\n",
    "print(x)\n",
    "print(type(x))\n",
    "\n",
    "\n",
    "if x >0:\n",
    "    print(\"Postive number \",x)\n",
    "\n",
    "\n"
   ]
  },
  {
   "cell_type": "code",
   "execution_count": 44,
   "id": "0bb8c152-88b2-4d71-b67b-9aa954d0a0ec",
   "metadata": {},
   "outputs": [
    {
     "name": "stdin",
     "output_type": "stream",
     "text": [
      "Enter a day Saturday\n"
     ]
    },
    {
     "name": "stdout",
     "output_type": "stream",
     "text": [
      "Your day is  Saturday\n"
     ]
    }
   ],
   "source": [
    "\n",
    "day= input(\"Enter a day\")\n",
    "\n",
    "if day==\"Monday\":\n",
    "    print(\"Print Monday\")\n",
    "elif day==\"Tuesday\":\n",
    "    print(\"Secound Tuesday\")\n",
    "elif day==\"Wednesday\":\n",
    "    print(\"Secound Monday\")\n",
    "else:\n",
    "    print(\"Your day is \",day)"
   ]
  },
  {
   "cell_type": "code",
   "execution_count": 37,
   "id": "772825fd-c14c-4319-9c75-770ce9c95797",
   "metadata": {},
   "outputs": [
    {
     "name": "stdin",
     "output_type": "stream",
     "text": [
      "Please enter a number 5\n"
     ]
    },
    {
     "name": "stdout",
     "output_type": "stream",
     "text": [
      "0\n",
      "1\n",
      "2\n",
      "3\n",
      "4\n"
     ]
    }
   ],
   "source": [
    "'''#Searching for value \n",
    "val=input(\"Please enter a number\")\n",
    "data = [89,23,45]\n",
    "for i in data:\n",
    "    if(i == data[i]):\n",
    "        print(\"Value found at \",i)'''\n",
    "#Program for Break\n",
    "val=int(input(\"Please enter a number\"))\n",
    "for i in range(0,10):\n",
    "          if(i== val):\n",
    "             break\n",
    "          print(i)\n"
   ]
  },
  {
   "cell_type": "code",
   "execution_count": 36,
   "id": "3524be0d-6a09-4d3e-9aa0-d58f5453bcc5",
   "metadata": {},
   "outputs": [
    {
     "name": "stdin",
     "output_type": "stream",
     "text": [
      "Please enter a number 5\n"
     ]
    },
    {
     "name": "stdout",
     "output_type": "stream",
     "text": [
      "0\n",
      "1\n",
      "2\n",
      "3\n",
      "4\n",
      "6\n",
      "7\n",
      "8\n",
      "9\n"
     ]
    }
   ],
   "source": [
    "\n",
    "#Program for continue  -- ENtered value will not be printed\n",
    "val=int(input(\"Please enter a number\"))\n",
    "for i in range(0,10):\n",
    "          if(i== val):\n",
    "              continue\n",
    "          print(i) "
   ]
  },
  {
   "cell_type": "code",
   "execution_count": 8,
   "id": "8a8932d3-f6ca-438e-8ab7-1aefa0b99522",
   "metadata": {},
   "outputs": [
    {
     "name": "stdout",
     "output_type": "stream",
     "text": [
      "Not eligible for lisence\n"
     ]
    }
   ],
   "source": [
    "# Terinary operator\n",
    "age=16\n",
    "\n",
    "message=\" Eligible for lisence\" if age>17 else \"Not eligible for lisence\"\n",
    "\n",
    "print(message)"
   ]
  },
  {
   "cell_type": "code",
   "execution_count": 12,
   "id": "a15b2324-8b48-4f39-828f-90e903b53729",
   "metadata": {},
   "outputs": [
    {
     "name": "stdout",
     "output_type": "stream",
     "text": [
      "Dont issue lisence, But eligible for next try\n"
     ]
    }
   ],
   "source": [
    "# and and or \n",
    "major= True\n",
    "Healthy = False\n",
    "\n",
    "if major and Healthy :\n",
    "    print(\" Give lisence, He is fit\")\n",
    "elif major or Healthy:\n",
    "    print(\"Dont issue lisence, But eligible for next try\")\n",
    "else:\n",
    "    print(\"Sorry you wont get lisence\")\n",
    "\n"
   ]
  },
  {
   "cell_type": "code",
   "execution_count": 46,
   "id": "63fb6f6f-6dad-4830-aa14-42b074649643",
   "metadata": {},
   "outputs": [
    {
     "name": "stdout",
     "output_type": "stream",
     "text": [
      "H\n",
      "e\n",
      "l\n",
      "l\n",
      "o\n",
      " \n",
      "G\n",
      "e\n",
      "n\n",
      "t\n",
      "e\n",
      "l\n",
      "m\n",
      "e\n",
      "n\n",
      "!\n",
      ".\n",
      " \n",
      "W\n",
      "e\n",
      "l\n",
      "c\n",
      "o\n",
      "m\n",
      "e\n",
      " \n",
      "t\n",
      "o\n",
      " \n",
      "p\n",
      "y\n",
      "t\n",
      "h\n",
      "o\n",
      "n\n",
      "\n",
      "\n",
      "H\n",
      "a\n",
      "p\n",
      "p\n",
      "y\n",
      " \n",
      "w\n",
      "e\n",
      "e\n",
      "k\n",
      " \n",
      "e\n",
      "n\n",
      "d\n",
      ".\n",
      " \n",
      "L\n",
      "e\n",
      "t\n",
      "s\n",
      " \n",
      "p\n",
      "l\n",
      "a\n",
      "y\n",
      " \n",
      "f\n",
      "o\n",
      "o\n",
      "s\n",
      "s\n",
      "b\n",
      "a\n",
      "l\n",
      "l\n",
      "\n",
      "\n",
      "F\n",
      "i\n",
      "l\n",
      "e\n",
      "s\n",
      " \n",
      "a\n",
      "r\n",
      "e\n",
      " \n",
      "f\n",
      "u\n",
      "n\n"
     ]
    }
   ],
   "source": [
    "# File operations\n",
    "# <by default mode of open method is read>\n",
    "# open(FILE NAME, MODE)\n",
    "file_object=open(\"sample.txt\")\n",
    "data= file_object.read()\n",
    "\n",
    "# reading file line by line\n",
    "\n",
    "for i in data :\n",
    "     print(i) # Every character of file will be printed"
   ]
  },
  {
   "cell_type": "code",
   "execution_count": 49,
   "id": "5e814d1b-09ef-4ec5-b293-9b4fbe8eacf7",
   "metadata": {},
   "outputs": [
    {
     "name": "stdout",
     "output_type": "stream",
     "text": [
      "Hello Gentelmen!. Welcome to python\n",
      "Happy week end. Lets play foossball\n",
      "Files are fun\n"
     ]
    }
   ],
   "source": [
    "data1= file_object.readlines()\n",
    "print(data)\n",
    "\n",
    "for i in data1 :\n",
    "        print(i)  # Printing data in file line by line\n",
    "\n",
    "file_object.close()"
   ]
  },
  {
   "cell_type": "code",
   "execution_count": 39,
   "id": "1e1f760e-b545-4993-81b5-52b764cdb858",
   "metadata": {},
   "outputs": [
    {
     "name": "stdout",
     "output_type": "stream",
     "text": [
      "Hello welome to file writing /n trying new line feature\n"
     ]
    },
    {
     "data": {
      "text/plain": [
       "<function TextIOWrapper.close()>"
      ]
     },
     "execution_count": 39,
     "metadata": {},
     "output_type": "execute_result"
    }
   ],
   "source": [
    "##\n",
    "## Wrirting data to file\n",
    "# if you open file in read mode you cant write\n",
    "\n",
    "file_object1=open(\"writefile.txt\",'w') # in write mode already exsiting data will be erased\n",
    "file_object1.write(\"Hello welome to file writing /n trying new line feature\")\n",
    "#file_object1.write(\"### hello !!!/n trying new line feature\")\n",
    "file_object1.close\n",
    "\n",
    "file_object1=open(\"writefile.txt\",'r')\n",
    "data= file_object1.read()\n",
    "print(data)\n",
    "file_object1.close"
   ]
  },
  {
   "cell_type": "code",
   "execution_count": 41,
   "id": "894a8b48-ff3e-4911-afe7-ed3ba0733e2b",
   "metadata": {},
   "outputs": [
    {
     "name": "stdout",
     "output_type": "stream",
     "text": [
      "Hello welome to file writing /n trying new line featureAdding data using append\n",
      "Hello welome to file writing /n trying new line featureAdding data using appendAdding data using append\n"
     ]
    },
    {
     "data": {
      "text/plain": [
       "<function TextIOWrapper.close()>"
      ]
     },
     "execution_count": 41,
     "metadata": {},
     "output_type": "execute_result"
    }
   ],
   "source": [
    "\n",
    "## use append 'a' ... This will not erase existing data\n",
    "# append is recomended\n",
    "file_object1=open(\"writefile.txt\",'a')\n",
    "file_object1.write(\"Adding data using append\")\n",
    "print(data)\n",
    "file_object1.close\n",
    "file_object1=open(\"writefile.txt\",'r')\n",
    "data= file_object1.read()\n",
    "print(data)\n",
    "file_object1.close"
   ]
  },
  {
   "cell_type": "markdown",
   "id": "d6737d05-67fb-4c4f-893b-301893ddf5f7",
   "metadata": {},
   "source": [
    "##### password=\"key\"\n",
    "input_recieved=input(\"Please enter password of your file \")\n",
    "\n",
    "if(password == input_recieved or input_recieved == \"KEY\"):\n",
    "    print(\"correct password\")\n",
    "    fileobject=open(\"sample.txt\")\n",
    "    file_data=fileobject.read()\n",
    "    print(file_data)\n",
    "else:\n",
    "    print(\"Wrong password\")\n"
   ]
  },
  {
   "cell_type": "code",
   "execution_count": 66,
   "id": "a3f26990-c9b4-411a-9932-2d8a48cf03c8",
   "metadata": {},
   "outputs": [
    {
     "name": "stdin",
     "output_type": "stream",
     "text": [
      "Please enter password of your file  AMARNATH\n"
     ]
    },
    {
     "name": "stdout",
     "output_type": "stream",
     "text": [
      "Correct password\n",
      "\n"
     ]
    }
   ],
   "source": [
    "#password=\"key\"\n",
    "input_recieved=input(\"Please enter password of your file \")\n",
    "f= open(\"sample.txt\")\n",
    "data= f.readlines()\n",
    "for i in data:\n",
    "    if(i== \"PASSWORD:\"+input_recieved):\n",
    "        print(\"Correct password\")\n",
    "        #print(data)\n",
    "        print(f.read())\n",
    "\n",
    "f.close()\n",
    "    "
   ]
  },
  {
   "cell_type": "code",
   "execution_count": 152,
   "id": "f082e84f-1189-40d7-9ddd-71c41f4a2b27",
   "metadata": {},
   "outputs": [
    {
     "name": "stdout",
     "output_type": "stream",
     "text": [
      "We are inside add method\n",
      "9\n",
      "1\n"
     ]
    },
    {
     "data": {
      "text/plain": [
       "[1, 3, 5]"
      ]
     },
     "execution_count": 152,
     "metadata": {},
     "output_type": "execute_result"
    }
   ],
   "source": [
    "#functions: method/Functions are block of code which can be reused\n",
    "\n",
    "def add(): # Method with out ANY PARAMETERS\n",
    "    print(\"We are inside add method\")\n",
    "\n",
    "def square(a): # method with parameters you can have multiple parameters\n",
    "    print(a*a)\n",
    "\n",
    "def odd(a): # return key word= terminates method and returns a value\n",
    "    return a &1\n",
    "\n",
    "\n",
    "\n",
    "add()\n",
    "\n",
    "square(3)\n",
    "\n",
    "print(odd(3))\n",
    "\n",
    "\n"
   ]
  },
  {
   "cell_type": "code",
   "execution_count": 147,
   "id": "985b2dec-2039-4b6c-a495-2782cf43e777",
   "metadata": {},
   "outputs": [
    {
     "name": "stdout",
     "output_type": "stream",
     "text": [
      "### hello !!!/n trying new line feature\n",
      "\n",
      "Reading file from functions\n",
      "######################\n",
      "Hello Gentelmen!. Welcome to python\n",
      "Happy week end. Lets play foossball\n",
      "Files are fun\n",
      "\n",
      "AMARNATH IDNDIOJ\n",
      "\n",
      "PASSWORD:AMARNATH\n"
     ]
    }
   ],
   "source": [
    "# Usage of functions \n",
    "\n",
    "def readfile(str):\n",
    "    file_object1=open(str)\n",
    "    data= file_object1.read()\n",
    "    print(data)\n",
    "    file_object1.close\n",
    "\n",
    "\n",
    "readfile(\"writefile.txt\")\n",
    "print(\"######################\")\n",
    "readfile(\"sample.txt\")"
   ]
  },
  {
   "cell_type": "code",
   "execution_count": 5,
   "id": "10dc30cf-bbbf-4391-8f96-4d96249201cf",
   "metadata": {},
   "outputs": [
    {
     "name": "stdout",
     "output_type": "stream",
     "text": [
      "saturday\n",
      "wednesday\n",
      "['saturday', 'monday', 'Sunday']\n",
      "['saturday', 'Sunday', 'wednesday', 'friday']\n",
      "['monday', 'tuesday', 'thursday']\n",
      "['friday', 'thursday', 'wednesday', 'tuesday', 'Sunday', 'monday', 'saturday']\n",
      "Today is saturday\n",
      "Today is monday\n",
      "Today is Sunday\n",
      "Today is tuesday\n",
      "Today is wednesday\n",
      "Today is thursday\n",
      "Today is friday\n",
      "Length of list 7\n",
      "<class 'list'>\n",
      "True\n",
      "['Saturday', 'Sunday', 'Tuesday', 'friday', 'monday', 'thursday', 'wednesday']\n"
     ]
    }
   ],
   "source": [
    "\n",
    "\n",
    "# List = list of items , Duplicates are allowed , Items are placed in order , Mutable- changes are allowed\n",
    "# Set = Duplicates are not allowed , data Un ordered - , Immutable- we can't cahange data but we can add and remove data ,\n",
    "#Tuple = () ordered and unchangeable. Duplicates are  allowed. FASTER than list\n",
    "\n",
    "\n",
    "days = [\"saturday\",\"monday\",\"Sunday\",\"tuesday\",\"wednesday\",\"thursday\",\"friday\"]\n",
    "\n",
    "#printing using index\n",
    "print(days[0])\n",
    "print(days[4])\n",
    "#print(days[9]) this will give index out of range error\n",
    "\n",
    "print(days[0:3])\n",
    "# : is called slice operator in python \n",
    "#Collection[start:end:step]  \n",
    "\n",
    "print(days[::2]) # print(days[0::2]) both are same prints every second element from o\n",
    "print(days[1::2]) # print(days[0::2]) both are same prints every second element from 1\n",
    "\n",
    "print(days[::-1]) # printing in reverse\n",
    "\n",
    "for day in days:\n",
    "    print(\"Today is\",day)\n",
    "\n",
    "print(\"Length of list\",len(days))\n",
    "print(type(days))\n",
    "\n",
    "print(\"monday\" in days) # searches for value in list and returns boolean\n",
    "\n",
    "D = [\"Saturday\",\"monday\",\"Sunday\",\"Tuesday\",\"wednesday\",\"thursday\",\"friday\"]\n",
    "D.sort()\n",
    "print(D) # as few days are having first letter as capital the sorting has changed accordingly\n",
    "\n",
    "\n"
   ]
  },
  {
   "cell_type": "code",
   "execution_count": 88,
   "id": "aa730c20-e9ae-46b6-b1f7-76255ebcbb94",
   "metadata": {},
   "outputs": [
    {
     "name": "stdout",
     "output_type": "stream",
     "text": [
      "['__add__', '__class__', '__class_getitem__', '__contains__', '__delattr__', '__delitem__', '__dir__', '__doc__', '__eq__', '__format__', '__ge__', '__getattribute__', '__getitem__', '__getstate__', '__gt__', '__hash__', '__iadd__', '__imul__', '__init__', '__init_subclass__', '__iter__', '__le__', '__len__', '__lt__', '__mul__', '__ne__', '__new__', '__reduce__', '__reduce_ex__', '__repr__', '__reversed__', '__rmul__', '__setattr__', '__setitem__', '__sizeof__', '__str__', '__subclasshook__', 'append', 'clear', 'copy', 'count', 'extend', 'index', 'insert', 'pop', 'remove', 'reverse', 'sort']\n",
      "\n",
      "Help on list object:\n",
      "\n",
      "class list(object)\n",
      " |  list(iterable=(), /)\n",
      " |\n",
      " |  Built-in mutable sequence.\n",
      " |\n",
      " |  If no argument is given, the constructor creates a new empty list.\n",
      " |  The argument must be an iterable if specified.\n",
      " |\n",
      " |  Methods defined here:\n",
      " |\n",
      " |  __add__(self, value, /)\n",
      " |      Return self+value.\n",
      " |\n",
      " |  __contains__(self, key, /)\n",
      " |      Return bool(key in self).\n",
      " |\n",
      " |  __delitem__(self, key, /)\n",
      " |      Delete self[key].\n",
      " |\n",
      " |  __eq__(self, value, /)\n",
      " |      Return self==value.\n",
      " |\n",
      " |  __ge__(self, value, /)\n",
      " |      Return self>=value.\n",
      " |\n",
      " |  __getattribute__(self, name, /)\n",
      " |      Return getattr(self, name).\n",
      " |\n",
      " |  __getitem__(self, index, /)\n",
      " |      Return self[index].\n",
      " |\n",
      " |  __gt__(self, value, /)\n",
      " |      Return self>value.\n",
      " |\n",
      " |  __iadd__(self, value, /)\n",
      " |      Implement self+=value.\n",
      " |\n",
      " |  __imul__(self, value, /)\n",
      " |      Implement self*=value.\n",
      " |\n",
      " |  __init__(self, /, *args, **kwargs)\n",
      " |      Initialize self.  See help(type(self)) for accurate signature.\n",
      " |\n",
      " |  __iter__(self, /)\n",
      " |      Implement iter(self).\n",
      " |\n",
      " |  __le__(self, value, /)\n",
      " |      Return self<=value.\n",
      " |\n",
      " |  __len__(self, /)\n",
      " |      Return len(self).\n",
      " |\n",
      " |  __lt__(self, value, /)\n",
      " |      Return self<value.\n",
      " |\n",
      " |  __mul__(self, value, /)\n",
      " |      Return self*value.\n",
      " |\n",
      " |  __ne__(self, value, /)\n",
      " |      Return self!=value.\n",
      " |\n",
      " |  __repr__(self, /)\n",
      " |      Return repr(self).\n",
      " |\n",
      " |  __reversed__(self, /)\n",
      " |      Return a reverse iterator over the list.\n",
      " |\n",
      " |  __rmul__(self, value, /)\n",
      " |      Return value*self.\n",
      " |\n",
      " |  __setitem__(self, key, value, /)\n",
      " |      Set self[key] to value.\n",
      " |\n",
      " |  __sizeof__(self, /)\n",
      " |      Return the size of the list in memory, in bytes.\n",
      " |\n",
      " |  append(self, object, /)\n",
      " |      Append object to the end of the list.\n",
      " |\n",
      " |  clear(self, /)\n",
      " |      Remove all items from list.\n",
      " |\n",
      " |  copy(self, /)\n",
      " |      Return a shallow copy of the list.\n",
      " |\n",
      " |  count(self, value, /)\n",
      " |      Return number of occurrences of value.\n",
      " |\n",
      " |  extend(self, iterable, /)\n",
      " |      Extend list by appending elements from the iterable.\n",
      " |\n",
      " |  index(self, value, start=0, stop=9223372036854775807, /)\n",
      " |      Return first index of value.\n",
      " |\n",
      " |      Raises ValueError if the value is not present.\n",
      " |\n",
      " |  insert(self, index, object, /)\n",
      " |      Insert object before index.\n",
      " |\n",
      " |  pop(self, index=-1, /)\n",
      " |      Remove and return item at index (default last).\n",
      " |\n",
      " |      Raises IndexError if list is empty or index is out of range.\n",
      " |\n",
      " |  remove(self, value, /)\n",
      " |      Remove first occurrence of value.\n",
      " |\n",
      " |      Raises ValueError if the value is not present.\n",
      " |\n",
      " |  reverse(self, /)\n",
      " |      Reverse *IN PLACE*.\n",
      " |\n",
      " |  sort(self, /, *, key=None, reverse=False)\n",
      " |      Sort the list in ascending order and return None.\n",
      " |\n",
      " |      The sort is in-place (i.e. the list itself is modified) and stable (i.e. the\n",
      " |      order of two equal elements is maintained).\n",
      " |\n",
      " |      If a key function is given, apply it once to each list item and sort them,\n",
      " |      ascending or descending, according to their function values.\n",
      " |\n",
      " |      The reverse flag can be set to sort in descending order.\n",
      " |\n",
      " |  ----------------------------------------------------------------------\n",
      " |  Class methods defined here:\n",
      " |\n",
      " |  __class_getitem__(...) from builtins.type\n",
      " |      See PEP 585\n",
      " |\n",
      " |  ----------------------------------------------------------------------\n",
      " |  Static methods defined here:\n",
      " |\n",
      " |  __new__(*args, **kwargs) from builtins.type\n",
      " |      Create and return a new object.  See help(type) for accurate signature.\n",
      " |\n",
      " |  ----------------------------------------------------------------------\n",
      " |  Data and other attributes defined here:\n",
      " |\n",
      " |  __hash__ = None\n",
      "\n",
      "None\n"
     ]
    }
   ],
   "source": [
    "\n",
    "# To know functions in list  \n",
    "\n",
    "print(dir(days))\n",
    "\n",
    "print()\n",
    "\n",
    "# to know use of functions in list\n",
    "\n",
    "print(help(days))"
   ]
  },
  {
   "cell_type": "code",
   "execution_count": 15,
   "id": "66792228-d74d-4918-82be-3bcc4eb6c2dc",
   "metadata": {},
   "outputs": [
    {
     "name": "stdout",
     "output_type": "stream",
     "text": [
      "Length of list  is 10\n",
      "Sorted marks  [86, 88, 88, 90, 98, 99, 99, 99, 99, 100]\n",
      "[100, 99, 99, 99, 99, 98, 90, 88, 88, 86]\n",
      "Index of 100 0\n",
      "Count of 99 4\n",
      "[0, 1, 2, 3, 4, 5, 6, 7, 8, 9]\n"
     ]
    }
   ],
   "source": [
    "# lets use some of the lsit functions\n",
    "\n",
    "#marks=[86,90,98,88,99,99,100,99,\"Marks\"]\n",
    "marks=[86,90,98,88,99,99,100,99,99]\n",
    "marks.append(88)\n",
    "print(\"Length of list  is\",len(marks))\n",
    "marks.sort()\n",
    "print(\"Sorted marks \",marks)\n",
    "marks.reverse()\n",
    "\n",
    "print(marks)\n",
    "\n",
    "#.index()\n",
    "print(\"Index of 100\",marks.index(100))\n",
    "print(\"Count of 99\",marks.count(99))\n",
    "\n",
    "# Making list of numbers\n",
    "marks= list(range(0,10))\n",
    "print(marks)"
   ]
  },
  {
   "cell_type": "code",
   "execution_count": 16,
   "id": "742b3570-7dfb-4137-ac6f-73691c060a73",
   "metadata": {},
   "outputs": [
    {
     "name": "stdin",
     "output_type": "stream",
     "text": [
      "Enter a number 15\n"
     ]
    },
    {
     "data": {
      "text/plain": [
       "[1, 3, 5, 7, 9, 11, 13, 15]"
      ]
     },
     "execution_count": 16,
     "metadata": {},
     "output_type": "execute_result"
    }
   ],
   "source": [
    "# printing odd numbers\n",
    "def listofodd(x):\n",
    "    l=[]\n",
    "    for i in range(1,(x+1)):\n",
    "        if i &1 ==1:\n",
    "            l.append(i)\n",
    "    return l\n",
    "x= int(input(\"Enter a number\"))\n",
    "listofodd(x)"
   ]
  },
  {
   "cell_type": "code",
   "execution_count": 141,
   "id": "5f1309d9-6592-444c-9557-c5d4e9e680cd",
   "metadata": {},
   "outputs": [
    {
     "name": "stdout",
     "output_type": "stream",
     "text": [
      "monday\n",
      "friday\n",
      "tuesday\n",
      "Holiday\n",
      "wednesday\n",
      "thursday\n",
      "Workingday\n",
      "saturday\n",
      "Sunday\n",
      "9\n",
      "************************************\n",
      "monday\n",
      "8\n"
     ]
    }
   ],
   "source": [
    "# Sets  = Duplicates are not allowed , data Un ordered - , Immutable- we can't cahange data but we can add and remove data ,\n",
    "dup = {\"saturday\",\"monday\",\"Sunday\",\"tuesday\",\"wednesday\",\"thursday\",\"friday\"}\n",
    "\n",
    "#printing using index is not possible in set beacuse set is not structured : \n",
    "#print(dup[0]) Gives   ERROR- set object is not subscriptable\n",
    "#print(dup[4]) Gives   ERROR- set object is not subscriptable\n",
    "\n",
    "\n",
    "# add() , remove()\n",
    "\n",
    "\n",
    "dup.add(\"Holiday\")\n",
    "dup.add(\"Workingday\")\n",
    "for d in dup:\n",
    "       print(d)\n",
    "print(len(dup))\n",
    "print(\"************************************\")\n",
    "print(dup.pop()) # pops element for set\n",
    "\n",
    "print(len(dup))\n",
    "\n",
    "dup.clear() # removes all items from set\n",
    "\n",
    "for d in dup:\n",
    "       print(d)"
   ]
  },
  {
   "cell_type": "code",
   "execution_count": null,
   "id": "b2ae5ead-8d92-4ca4-9849-f409c64d37cb",
   "metadata": {},
   "outputs": [],
   "source": []
  },
  {
   "cell_type": "code",
   "execution_count": null,
   "id": "9e01673d-a476-4a7b-addc-7f12dfda4a1d",
   "metadata": {},
   "outputs": [],
   "source": []
  }
 ],
 "metadata": {
  "kernelspec": {
   "display_name": "Python 3 (ipykernel)",
   "language": "python",
   "name": "python3"
  },
  "language_info": {
   "codemirror_mode": {
    "name": "ipython",
    "version": 3
   },
   "file_extension": ".py",
   "mimetype": "text/x-python",
   "name": "python",
   "nbconvert_exporter": "python",
   "pygments_lexer": "ipython3",
   "version": "3.12.2"
  }
 },
 "nbformat": 4,
 "nbformat_minor": 5
}
