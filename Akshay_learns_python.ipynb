{
 "cells": [
  {
   "cell_type": "code",
   "execution_count": 1,
   "id": "2f11f6e1-bece-4a4f-8360-85f6e0aa4a82",
   "metadata": {},
   "outputs": [
    {
     "name": "stdout",
     "output_type": "stream",
     "text": [
      "20\n",
      "0\n",
      "100\n",
      "1.0\n",
      "1\n",
      "-2.0\n"
     ]
    }
   ],
   "source": [
    "# To print values\n",
    "a = 10\n",
    "b = 10\n",
    "c = a+b\n",
    "d = a-b\n",
    "e = a*b\n",
    "f = a/b\n",
    "g = a//b\n",
    "print(c)\n",
    "print(d)\n",
    "print(e)\n",
    "print(f)\n",
    "print(g)\n",
    "print(-3.8//2)"
   ]
  },
  {
   "cell_type": "code",
   "execution_count": 14,
   "id": "bbbd73a3-0224-4911-9caa-a7ee322177e2",
   "metadata": {},
   "outputs": [
    {
     "name": "stdout",
     "output_type": "stream",
     "text": [
      "140725146819288\n",
      "140725146819288\n",
      "140725146819288\n"
     ]
    }
   ],
   "source": [
    "print(id(a))\n",
    "print(id(b))\n",
    "\n",
    "d=10\n",
    "print(id(d))"
   ]
  },
  {
   "cell_type": "code",
   "execution_count": 2,
   "id": "627ef4eb-41fe-48f5-a6e4-5c82fd19315c",
   "metadata": {},
   "outputs": [
    {
     "name": "stdout",
     "output_type": "stream",
     "text": [
      "0\n",
      "1\n",
      "2\n",
      "3\n",
      "4\n",
      "5\n",
      "6\n",
      "7\n",
      "8\n",
      "9\n",
      "10\n"
     ]
    }
   ],
   "source": [
    "for x in range (11):\n",
    "    print(x)"
   ]
  },
  {
   "cell_type": "code",
   "execution_count": 39,
   "id": "a246ef85-358f-49bf-a01a-27a138984780",
   "metadata": {},
   "outputs": [
    {
     "name": "stdout",
     "output_type": "stream",
     "text": [
      "3 X 1 = 3\n",
      "3 X 2 = 6\n",
      "3 X 3 = 9\n",
      "3 X 4 = 12\n",
      "3 X 5 = 15\n",
      "3 X 6 = 18\n",
      "3 X 7 = 21\n",
      "3 X 8 = 24\n",
      "3 X 9 = 27\n",
      "3 X 10 = 30\n"
     ]
    }
   ],
   "source": [
    "x=3\n",
    "for i in range(1,11):\n",
    "    print(x,\"X\",i,\"=\",x*i)"
   ]
  },
  {
   "cell_type": "code",
   "execution_count": 55,
   "id": "ab3fe5f9-6a15-492a-9181-a5c9b7c6b353",
   "metadata": {},
   "outputs": [
    {
     "name": "stdout",
     "output_type": "stream",
     "text": [
      "Prime number True\n",
      "Prime number True\n",
      "Prime number True\n",
      "Prime number True\n",
      "Prime number True\n",
      "Prime number True\n",
      "Prime number True\n",
      "Prime number True\n",
      "Prime number True\n",
      "Prime number True\n"
     ]
    }
   ],
   "source": [
    "x = i%2==0\n",
    "for i in range(1,11):\n",
    "    print(\"Prime number\",x)"
   ]
  },
  {
   "cell_type": "code",
   "execution_count": 95,
   "id": "384cbef8-b658-4c92-bc16-40ffd091e855",
   "metadata": {},
   "outputs": [
    {
     "name": "stdout",
     "output_type": "stream",
     "text": [
      "Odd 1\n",
      "Even 2\n",
      "Odd 3\n",
      "Even 4\n",
      "Odd 5\n",
      "Even 6\n",
      "Odd 7\n",
      "Even 8\n",
      "Odd 9\n",
      "Even 10\n"
     ]
    }
   ],
   "source": [
    "for i in range (1,11):\n",
    "    if i%2==0:\n",
    "        print (\"Even\", i)\n",
    "    else:\n",
    "        print(\"Odd\", i)"
   ]
  },
  {
   "cell_type": "code",
   "execution_count": null,
   "id": "f91aea54-0c15-43f1-846c-934c5dba095b",
   "metadata": {},
   "outputs": [],
   "source": []
  },
  {
   "cell_type": "code",
   "execution_count": 15,
   "id": "86e6042a-09fa-4e30-8fed-dea208941900",
   "metadata": {},
   "outputs": [
    {
     "name": "stdout",
     "output_type": "stream",
     "text": [
      "heelo your marks are 21\n"
     ]
    }
   ],
   "source": [
    "a = 10\n",
    "b =11\n",
    "c = a+b\n",
    "print(\"heelo your marks are\",c)"
   ]
  },
  {
   "cell_type": "code",
   "execution_count": 18,
   "id": "b1d9f65c-c058-4e79-aa89-94671a519038",
   "metadata": {},
   "outputs": [
    {
     "name": "stdout",
     "output_type": "stream",
     "text": [
      "heelo your marks are 21\n"
     ]
    }
   ],
   "source": [
    "a = 10\n",
    "b = 11\n",
    "print(\"heelo your marks are\",a+b)"
   ]
  },
  {
   "cell_type": "code",
   "execution_count": 3,
   "id": "be24833d-9525-48d0-a70f-1c0c30965b12",
   "metadata": {},
   "outputs": [
    {
     "name": "stdout",
     "output_type": "stream",
     "text": [
      "22\n"
     ]
    }
   ],
   "source": [
    "a=10; b=12\n",
    "c=a+b\n",
    "print(c)\n"
   ]
  },
  {
   "cell_type": "code",
   "execution_count": 4,
   "id": "7a1c81a4-9f03-4a99-b352-1b682235fccd",
   "metadata": {},
   "outputs": [
    {
     "name": "stdout",
     "output_type": "stream",
     "text": [
      "2\n"
     ]
    }
   ],
   "source": [
    "a =1\n",
    "b =2\n",
    "print(b)"
   ]
  },
  {
   "cell_type": "code",
   "execution_count": 19,
   "id": "f57f459c-5994-4cbd-8cc6-b724a54fba26",
   "metadata": {},
   "outputs": [
    {
     "name": "stdout",
     "output_type": "stream",
     "text": [
      "hello 9 people \n",
      "Hello 3, people learn python for 2 hours\n",
      "hello 1 fucking people total people in house are 2\n"
     ]
    }
   ],
   "source": [
    "a =1\n",
    "b =2\n",
    "c=a+b\n",
    "print(f\"hello {c+a+b+c} people \")\n",
    "print(f\"Hello {c}, people learn python for {a*b} hours\")\n",
    "print(\"hello {1} fucking people total people in house are {0}\".format(b,a))"
   ]
  },
  {
   "cell_type": "code",
   "execution_count": 19,
   "id": "669ad0e3-d168-4888-9a4d-79e3aded0ea8",
   "metadata": {},
   "outputs": [
    {
     "name": "stdin",
     "output_type": "stream",
     "text": [
      "Please enter values: 2\n"
     ]
    },
    {
     "name": "stdout",
     "output_type": "stream",
     "text": [
      "2\n"
     ]
    }
   ],
   "source": [
    "#input -- Used to enter Dynamic values\n",
    "\n",
    "x = input (\"Please enter values:\")\n",
    "print(x)\n"
   ]
  },
  {
   "cell_type": "code",
   "execution_count": 24,
   "id": "9b05c0e2-fa0c-4532-9286-7cfbc59db07f",
   "metadata": {},
   "outputs": [
    {
     "name": "stdin",
     "output_type": "stream",
     "text": [
      "Enter number: 5\n"
     ]
    },
    {
     "name": "stdout",
     "output_type": "stream",
     "text": [
      "5\n",
      "<class 'int'>\n"
     ]
    }
   ],
   "source": [
    "x = int (input(\"Enter number:\"))\n",
    "print(x)\n",
    "print(type(x))"
   ]
  },
  {
   "cell_type": "code",
   "execution_count": 34,
   "id": "e886fb55-2c46-4352-90af-9863aa67b628",
   "metadata": {},
   "outputs": [
    {
     "name": "stdin",
     "output_type": "stream",
     "text": [
      "Please enter: mon\n"
     ]
    },
    {
     "name": "stdout",
     "output_type": "stream",
     "text": [
      "Your entered day not found: mon\n"
     ]
    }
   ],
   "source": [
    "days = input(\"Please enter:\")\n",
    "if days == \"monday\":\n",
    "    print(days)\n",
    "elif days == \"tuesday\":\n",
    "    print(days)\n",
    "elif days == \"monday\":\n",
    "    print(days)\n",
    "else:\n",
    "    print(\"Your entered day not found:\", days)"
   ]
  },
  {
   "cell_type": "code",
   "execution_count": 76,
   "id": "42e22967-e6f5-4aef-956b-f7bdd488f5b5",
   "metadata": {},
   "outputs": [
    {
     "name": "stdin",
     "output_type": "stream",
     "text": [
      "Enter the marks: 34\n"
     ]
    },
    {
     "name": "stdout",
     "output_type": "stream",
     "text": [
      "Apka launda sirf pass hogya hai 34 marks se but isse aur mehnat karo beta\n"
     ]
    }
   ],
   "source": [
    "marks = int(input(\"Enter the marks:\"))\n",
    "\n",
    "if marks <=32:\n",
    "    print(f\"Apka launda iss baar pass nahi hua {marks} marks laya hai\")\n",
    "elif marks >=33 and marks <=40:\n",
    "    print(f\"Apka launda sirf pass hogya hai {marks} marks se but isse aur mehnat karo beta\")\n",
    "elif marks >=40 and marks <=59:\n",
    "    print(f\"Apka launda pass hogaya haii {marks} B grade se\")\n",
    "elif marks >=60 and marks <=69:\n",
    "    print(f\"Apka launda pass hogaya haii {marks} B+ grade se\")\n",
    "elif marks >=70 and marks <=84:\n",
    "    print(f\"Apka launda pass hogaya haii {marks} A grade se\")\n",
    "elif marks >=85 and marks <=100:\n",
    "    print(f\"Apka launda pass hogaya haii {marks} A+ grade se\")\n",
    "else:\n",
    "    print(f\"Apke enter kia hua {marks} yeh sahi nahi hai\")"
   ]
  },
  {
   "cell_type": "code",
   "execution_count": 101,
   "id": "20b788a0-e4aa-4978-9f09-92071bfb0b78",
   "metadata": {
    "editable": true,
    "slideshow": {
     "slide_type": ""
    },
    "tags": []
   },
   "outputs": [
    {
     "name": "stdin",
     "output_type": "stream",
     "text": [
      "Please enter the year: 34\n"
     ]
    },
    {
     "name": "stdout",
     "output_type": "stream",
     "text": [
      "The entered year is 34 and the age is 1990 more than 100 years of age.Please enter correct year\n"
     ]
    }
   ],
   "source": [
    "# Program - Eligible for driving and also display the entered year is a leap year or not\n",
    "\n",
    "birth_year = int(input(\"Please enter the year:\"))\n",
    "current_year = 2024\n",
    "age = current_year - birth_year\n",
    "\n",
    "\n",
    "if age == 0:\n",
    "    print(f\"The candidate age is not valid as the age is {age} year.\")\n",
    "elif age == 1:\n",
    "    print(f\"The candidate is not eligible for driving as the age is {age} year.\")\n",
    "elif age >= 2 and age <= 17:\n",
    "    print(f\"The candidate is not eligible for driving as the age is {age} years.\")\n",
    "elif age >=18 and age <=39:\n",
    "    print(f\"The candidate is eligible for driving as the age is {age} years.\")\n",
    "elif age == 40:\n",
    "    print(f\"The candidate is eligible for driving as the age is {age} years. But needs to renew the license for 10 years\")\n",
    "elif age >=41 and age <=49:\n",
    "    print(f\"The candidate is eligible for driving as the age is {age} years.\")\n",
    "elif age == 50:\n",
    "    print(f\"The candidate is eligible for driving as the age is {age} years. But needs to renew the license for 5 years\")\n",
    "elif age >=51 and age <=54:\n",
    "    print(f\"The candidate is eligible for driving as the age is {age} years.\")\n",
    "elif age == 55:\n",
    "    print(f\"The candidate is eligible for driving as the age is {age} years. But needs to renew the license for 5 years\")\n",
    "elif age >=56 and age <=59:\n",
    "    print(f\"The candidate is eligible for driving as the age is {age} years.\")\n",
    "elif age == 60:\n",
    "    print(f\"The candidate is eligible for driving as the age is {age} years. But needs to renew the license for 5 years\")\n",
    "elif age >=61 and age <=64:\n",
    "    print(f\"The candidate is eligible for driving as the age is {age} years.\")\n",
    "elif age == 65:\n",
    "    print(f\"The candidate is eligible for driving as the age is {age} years. But needs to renew the license for 5 years\")\n",
    "elif age >=66 and age <=69:\n",
    "    print(f\"The candidate is eligible for driving as the age is {age} years.\")\n",
    "elif age == 70:\n",
    "    print(f\"The candidate is eligible for driving as the age is {age} years. But needs to renew the license for 5 years\")\n",
    "elif age >=71 and age <=47:\n",
    "    print(f\"The candidate is eligible for driving as the age is {age} years.\")\n",
    "elif age == 75:\n",
    "    print(f\"The candidate is eligible for driving as the age is {age} years. But needs to renew the license for 5 years\")\n",
    "elif age >=76 and age <=79:\n",
    "    print(f\"The candidate is eligible for driving as the age is {age} years. But can only drive upto the age of 80 years\")\n",
    "elif age >=80 and age <=100:\n",
    "    print(f\"The candidate is not fit for driving as the age is {age} years. Dada ji ab nahi chalao gadi it's not safe have fun on the back seat.\")\n",
    "else:\n",
    "    print(f\"The entered year is {birth_year} and the age is {age} more than 100 years of age.Please enter correct year\")"
   ]
  },
  {
   "cell_type": "code",
   "execution_count": 11,
   "id": "a7298213-4cf6-4180-b668-d6e1a27d351b",
   "metadata": {},
   "outputs": [
    {
     "name": "stdout",
     "output_type": "stream",
     "text": [
      "Akshay Koul\n",
      "Akshay my\n",
      "Akshay name\n"
     ]
    }
   ],
   "source": [
    "# how to use list \n",
    "list = [\"Koul\", \"my\", \"name\"]\n",
    "for i in list:\n",
    "    print(\"Akshay\",i)"
   ]
  },
  {
   "cell_type": "code",
   "execution_count": 9,
   "id": "862d4a0b-860f-45a5-ae75-efa051e033be",
   "metadata": {},
   "outputs": [
    {
     "name": "stdout",
     "output_type": "stream",
     "text": [
      "hello\n",
      "123\n",
      "goals\n"
     ]
    }
   ],
   "source": [
    "list = [\"hello\",123, \"goals\"]\n",
    "for j in list:\n",
    "    print( j)"
   ]
  },
  {
   "cell_type": "code",
   "execution_count": 21,
   "id": "4c0123c1-244c-44b7-bead-3116fa493df9",
   "metadata": {},
   "outputs": [
    {
     "name": "stdin",
     "output_type": "stream",
     "text": [
      "Please enter the numbers you want: 2\n"
     ]
    },
    {
     "name": "stdout",
     "output_type": "stream",
     "text": [
      "2\n"
     ]
    },
    {
     "name": "stdin",
     "output_type": "stream",
     "text": [
      "Please enter the number you want to skip 2\n"
     ]
    },
    {
     "name": "stdout",
     "output_type": "stream",
     "text": [
      "0\n",
      "1\n"
     ]
    },
    {
     "name": "stdin",
     "output_type": "stream",
     "text": [
      "Please enter the number after which you want to continue 2\n"
     ]
    },
    {
     "name": "stdout",
     "output_type": "stream",
     "text": [
      "0\n",
      "1\n",
      "3\n",
      "4\n",
      "5\n",
      "6\n",
      "7\n",
      "8\n",
      "9\n",
      "10\n"
     ]
    }
   ],
   "source": [
    "# how to use break and continue\n",
    "\n",
    "val = int(input(\"Please enter the numbers you want:\")) # this is the example of type caste \n",
    "\n",
    "for i in range (0,11):\n",
    "    if(i==val):\n",
    "        print(i)\n",
    "\n",
    "val2 = int(input(\"Please enter the number you want to skip\"))\n",
    "\n",
    "for j in range (0,11):\n",
    "    if(j==val2):\n",
    "        break\n",
    "    print(j)\n",
    "\n",
    "val3 = int(input(\"Please enter the number after which you want to continue\"))\n",
    "\n",
    "for k in range (0,11):\n",
    "    if(k==val3):\n",
    "        continue\n",
    "    print(k)"
   ]
  },
  {
   "cell_type": "code",
   "execution_count": 16,
   "id": "3e8d6b08-323c-4898-8b74-6e21f5e0ebda",
   "metadata": {},
   "outputs": [
    {
     "name": "stdout",
     "output_type": "stream",
     "text": [
      "Oops i need to overwrite the file that's why you are not able to see previous content\n",
      "\n",
      "PASSWORD:Akshay\n",
      "--------1------------\n",
      "Oops i nee\n",
      "--------2------------\n",
      "[\"Oops i need to overwrite the file that's why you are not able to see previous content\\n\", '\\n', 'PASSWORD:Akshay']\n",
      "--------3------------\n",
      "Value of x Oops i need to overwrite the file that's why you are not able to see previous content\n",
      "\n",
      "Value of x \n",
      "\n",
      "Value of x PASSWORD:Akshay\n",
      "---------4-----------\n",
      "Oops i need to overwrite the file that's why you are not able to see previous content\n",
      "\n",
      "PASSWORD:Akshay\n",
      "---------5-----------\n"
     ]
    }
   ],
   "source": [
    "# To read file content\n",
    "\n",
    "file = open(\"sample.txt\",\"r\")\n",
    "print(file.read())\n",
    "print(\"--------1------------\")\n",
    "\n",
    "# To read only few letters\n",
    "file1 = open(\"sample.txt\",\"r\")\n",
    "print(file1.read(10))\n",
    "print(\"--------2------------\")\n",
    "\n",
    "# To read line\n",
    "file2 = open(\"sample.txt\", \"r\")\n",
    "print(file2.readlines())\n",
    "print(\"--------3------------\")\n",
    "\n",
    "# To read via for loop\n",
    "file3 = open(\"sample.txt\", \"r\")\n",
    "for x in file3:\n",
    "    print(\"Value of x\",x)\n",
    "print(\"---------4-----------\")\n",
    "\n",
    "# To read the file and close \n",
    "file4 = open(\"sample.txt\", \"r\")\n",
    "print(file4.read())\n",
    "file4.close()\n",
    "print(\"---------5-----------\")\n"
   ]
  },
  {
   "cell_type": "code",
   "execution_count": 15,
   "id": "6d23d416-b286-4cee-a708-4ae824e63ca4",
   "metadata": {},
   "outputs": [
    {
     "name": "stdout",
     "output_type": "stream",
     "text": [
      "Hello please read the content if this file please \n",
      "If you are seeing this text after running the code then it is successfull!!!The text you will see is going to add at the end of the fileThe text you will see is going to add at the end of the fileThe text you will see is going to add at the end of the fileThe text you will see is going to add ***************************\n"
     ]
    }
   ],
   "source": [
    "# To write in an existing file\n",
    "\n",
    "file = open(\"sample.txt\", \"a\")\n",
    "file.write(\"The text you will see is going to add ***************************\")\n",
    "file.close()\n",
    "\n",
    "file = open(\"sample.txt\", \"r\")\n",
    "print(file.read())"
   ]
  },
  {
   "cell_type": "code",
   "execution_count": 17,
   "id": "c08527cd-946e-4519-8eac-0f053fa5219a",
   "metadata": {},
   "outputs": [
    {
     "name": "stdout",
     "output_type": "stream",
     "text": [
      "Oops i need to overwrite the file that's why you are not able to see previous content\n"
     ]
    }
   ],
   "source": [
    "# To overwrite the content of any file\n",
    "\n",
    "file = open(\"sample.txt\", \"w\")\n",
    "file.write(\"Oops i need to overwrite the file that's why you are not able to see previous content\")\n",
    "file.close()\n",
    "\n",
    "file = open(\"sample.txt\", \"r\")\n",
    "print(file.read())"
   ]
  },
  {
   "cell_type": "code",
   "execution_count": 20,
   "id": "7688dcc6-042f-4ac9-b40a-6f2ec50638b3",
   "metadata": {},
   "outputs": [
    {
     "name": "stdout",
     "output_type": "stream",
     "text": [
      "This is the new file and we have written the content through the code\n"
     ]
    }
   ],
   "source": [
    "# To create a new file\n",
    "\n",
    "file = open(\"sample2.txt\", \"w\")\n",
    "file.write(\"This is the new file and we have written the content through the code\")\n",
    "file.close()\n",
    "\n",
    "file = open(\"sample2.txt\", \"r\")\n",
    "print(file.read())"
   ]
  },
  {
   "cell_type": "code",
   "execution_count": 1,
   "id": "841f96a6-841b-46b3-80f2-8c2bbdfdfcc6",
   "metadata": {},
   "outputs": [
    {
     "name": "stdin",
     "output_type": "stream",
     "text": [
      "Please enter the password: q\n"
     ]
    },
    {
     "name": "stdout",
     "output_type": "stream",
     "text": [
      "Wrong Password\n"
     ]
    }
   ],
   "source": [
    "# Program for setting password for a file\n",
    "\n",
    "word = input(\"Please enter the password:\")\n",
    "file = open(\"sample.txt\")\n",
    "flag= False\n",
    "data= file.readlines()\n",
    "for i in data:\n",
    "    if (i == \"#PASSWORD:\"+word):\n",
    "       print(\"Correct password\") \n",
    "       flag = True\n",
    "       print(data)\n",
    "if (flag== False):\n",
    "    print(\"Wrong Password\")\n",
    "\n",
    "file.close()"
   ]
  },
  {
   "cell_type": "code",
   "execution_count": 10,
   "id": "2766d2b0-0bbd-424e-b0ad-e0494b02b1f7",
   "metadata": {},
   "outputs": [
    {
     "name": "stdout",
     "output_type": "stream",
     "text": [
      "we are in the add method\n",
      "4\n"
     ]
    },
    {
     "data": {
      "text/plain": [
       "1"
      ]
     },
     "execution_count": 10,
     "metadata": {},
     "output_type": "execute_result"
    }
   ],
   "source": [
    "# Methods and fucntions are same thing -- it is a block of code which can be resused\n",
    "\n",
    "def add():   # method without parameters\n",
    "    print(\"we are in the add method\")\n",
    "\n",
    "def square(a):  # method with parameters we can have multiple parameters\n",
    "    print(a*a)\n",
    "\n",
    "def odd(a):   # return keyword means to terminate method/function and returns a value\n",
    "    return a &1\n",
    "\n",
    "add()\n",
    "square(2)\n",
    "odd(5)\n"
   ]
  },
  {
   "cell_type": "code",
   "execution_count": 30,
   "id": "adc571e2-9d0a-4613-b217-34c2069d00dd",
   "metadata": {
    "scrolled": true
   },
   "outputs": [
    {
     "name": "stdin",
     "output_type": "stream",
     "text": [
      "Enter the first number: 2\n",
      "Enter the 2nd number: 2\n"
     ]
    },
    {
     "name": "stdout",
     "output_type": "stream",
     "text": [
      "The sum is: 4\n",
      "The multiplication is: 4\n",
      "The division is: 1.0\n",
      "The mod is:  0\n"
     ]
    }
   ],
   "source": [
    "# Addition of two numbers by using method\n",
    "\n",
    "var1 = int(input(\"Enter the first number:\"))\n",
    "var2 = int(input(\"Enter the 2nd number:\"))\n",
    "\n",
    "# defining the methods\n",
    "\n",
    "def sum(x,y):\n",
    "    return x+y\n",
    "\n",
    "def mul(x,y):\n",
    "    return x*y\n",
    "\n",
    "def div(x,y):\n",
    "    return x/y\n",
    "    \n",
    "def mod(x,y):\n",
    "    return x%y\n",
    "    \n",
    "#  variable  = Callingmethod(vqr1,var2) , Here we are calling sum function and saving result in variable\n",
    "var3 = sum(var1,var2)\n",
    "var4 = mul(var1,var2)\n",
    "var5 = div(var1,var2)\n",
    "var6 = mod(var1, var2)\n",
    "\n",
    "print(\"The sum is:\", var3)\n",
    "print(\"The multiplication is:\", var4)\n",
    "print(\"The division is:\", var5)\n",
    "print(\"The mod is: \", var6)"
   ]
  },
  {
   "cell_type": "code",
   "execution_count": 35,
   "id": "4d23bc29-e138-4186-825d-7c6024b67c7a",
   "metadata": {},
   "outputs": [
    {
     "name": "stdin",
     "output_type": "stream",
     "text": [
      "Enter the 1st number: 1\n",
      "Enter the 2nd number: 2\n",
      "Enter the 3rd number: 3\n",
      "Enter the 4th number: 4\n"
     ]
    },
    {
     "name": "stdout",
     "output_type": "stream",
     "text": [
      "The sum of 4 numbers are: 10\n",
      "The avg of 4 numbers is: 2.5\n",
      "The greater number is: 4\n"
     ]
    }
   ],
   "source": [
    "# Sum of 4 numbers\n",
    "\n",
    "var1 = int(input(\"Enter the 1st number:\"))\n",
    "var2 = int(input(\"Enter the 2nd number:\"))\n",
    "var3 = int(input(\"Enter the 3rd number:\"))\n",
    "var4 = int(input(\"Enter the 4th number:\"))\n",
    "\n",
    "def sum(a,b,c,d):\n",
    "    return a+b+c+d\n",
    "\n",
    "def avg(a,b,c,d):\n",
    "    return (a+b+c+d)/4\n",
    "\n",
    "def lar(a,b,c,d):\n",
    "    return (max(a,b,c,d))\n",
    "\n",
    "#var5 = sum(var1,var2,var3,var4)\n",
    "var6 = avg(var1,var2,var3,var4)\n",
    "var7 = lar(var1,var2,var3,var4)\n",
    "\n",
    "print(\"The sum of 4 numbers are:\",sum(var1,var2,var3,var4) )\n",
    "print(\"The avg of 4 numbers is:\", var6)\n",
    "print(\"The greater number is:\", var7)"
   ]
  },
  {
   "cell_type": "code",
   "execution_count": 21,
   "id": "abdc0497-824d-4101-a84e-3e99cc8f0adc",
   "metadata": {},
   "outputs": [
    {
     "name": "stdin",
     "output_type": "stream",
     "text": [
      "Please enter file name: sample3.txt\n",
      "Please enter your data to write a file JJJJKKKKLLOOOO)))(((((9999997766666\n"
     ]
    },
    {
     "name": "stdout",
     "output_type": "stream",
     "text": [
      "<_io.TextIOWrapper name='sample3.txt' mode='a' encoding='cp1252'>\n",
      "Reading data from your desired file\n",
      "3rd file data inserthello newdata.... #####**************JJJJKKKKLLOOOO)))(((((9999997766666\n"
     ]
    }
   ],
   "source": [
    "# using function \n",
    "def addtext(f,data):\n",
    "     f.write(data)\n",
    "     return f\n",
    "\n",
    "def readtext(f):\n",
    "    print(f.read())\n",
    "\n",
    "\n",
    "filename = input(\"Please enter file name:\")\n",
    "file = open(filename,\"a\")\n",
    "inputdata= input(\"Please enter your data to write a file\")\n",
    "\n",
    "#print(addtext(file,inpudata)) # add is a default method which takes only one argument\n",
    "addtext(file,inputdata)\n",
    "print(file)\n",
    "file.close()\n",
    "print(\"Reading data from your desired file\")\n",
    "file = open(filename,\"r\")\n",
    "readtext(file)\n",
    "file.close()\n",
    "\n",
    "\n",
    "\n",
    "\n"
   ]
  },
  {
   "cell_type": "code",
   "execution_count": null,
   "id": "fbdab03b-e943-4111-9bef-7ba6b46feb69",
   "metadata": {},
   "outputs": [],
   "source": []
  },
  {
   "cell_type": "code",
   "execution_count": null,
   "id": "e105215d-7e59-44d5-8aeb-e0632db10fee",
   "metadata": {},
   "outputs": [],
   "source": []
  },
  {
   "cell_type": "code",
   "execution_count": null,
   "id": "9ba7b886-b5c4-4da7-be1d-bd5e37385fd1",
   "metadata": {},
   "outputs": [],
   "source": []
  },
  {
   "cell_type": "code",
   "execution_count": null,
   "id": "c2fc7458-6330-4b87-b5a6-78b4cdccbcb1",
   "metadata": {},
   "outputs": [],
   "source": []
  },
  {
   "cell_type": "code",
   "execution_count": null,
   "id": "cc50df40-722f-46ac-8c63-dc2bdf9e90f9",
   "metadata": {},
   "outputs": [],
   "source": []
  }
 ],
 "metadata": {
  "kernelspec": {
   "display_name": "Python 3 (ipykernel)",
   "language": "python",
   "name": "python3"
  },
  "language_info": {
   "codemirror_mode": {
    "name": "ipython",
    "version": 3
   },
   "file_extension": ".py",
   "mimetype": "text/x-python",
   "name": "python",
   "nbconvert_exporter": "python",
   "pygments_lexer": "ipython3",
   "version": "3.12.3"
  }
 },
 "nbformat": 4,
 "nbformat_minor": 5
}
